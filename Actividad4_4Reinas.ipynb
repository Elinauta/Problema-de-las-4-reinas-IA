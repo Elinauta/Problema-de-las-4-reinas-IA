{
  "nbformat": 4,
  "nbformat_minor": 0,
  "metadata": {
    "colab": {
      "name": "Actividad4_4Reinas.ipynb",
      "provenance": [],
      "authorship_tag": "ABX9TyMJyL5QYerdadsbVv6k8Snh",
      "include_colab_link": true
    },
    "kernelspec": {
      "name": "python3",
      "display_name": "Python 3"
    }
  },
  "cells": [
    {
      "cell_type": "markdown",
      "metadata": {
        "id": "view-in-github",
        "colab_type": "text"
      },
      "source": [
        "<a href=\"https://colab.research.google.com/github/Elinauta/Problema-de-las-4-reinas-IA/blob/main/Actividad4_4Reinas.ipynb\" target=\"_parent\"><img src=\"https://colab.research.google.com/assets/colab-badge.svg\" alt=\"Open In Colab\"/></a>"
      ]
    },
    {
      "cell_type": "markdown",
      "metadata": {
        "id": "PKrH4BFWwL7E"
      },
      "source": [
        "Maria Elizabeth Cuaya Padilla 19110132 5°E1\n",
        "Actividad 4: Solucion al problema de las 4 reinas"
      ]
    },
    {
      "cell_type": "code",
      "metadata": {
        "id": "31owclhnhtkP"
      },
      "source": [
        "def posicion_Reina(fila, columna):\n",
        "\n",
        "    for i in range(4):\n",
        "        if tablero[fila][i] == 'R' or tablero[i][columna] == 'R':\n",
        "            return False\n",
        "\n",
        "    if row <= columna:\n",
        "        col = columna - fila\n",
        "        fil = 0\n",
        "    else:\n",
        "        fil = fila - columna\n",
        "        col = 0\n",
        "    while col < 4 and fil < 4:\n",
        "        if tablero[fil][col] == 'R':\n",
        "            return False\n",
        "        fil += 1\n",
        "        col += 1\n",
        "\n",
        "    if fila <= columna:\n",
        "        fil = 0\n",
        "        col = columna + fila\n",
        "        if col > 3:\n",
        "            fil = col - 3\n",
        "            col = 3\n",
        "    else:\n",
        "        col = 3\n",
        "        fil = fila - (3 - columna)\n",
        "\n",
        "    while col >= 0 and fil < 4:\n",
        "        if tablero[fil][col] == 'R':\n",
        "            return False\n",
        "        fil += 1\n",
        "        col -= 1\n",
        "    return True"
      ],
      "execution_count": null,
      "outputs": []
    },
    {
      "cell_type": "code",
      "metadata": {
        "id": "RJ_Q4eeEwBL8"
      },
      "source": [
        "def agregar_reina(num):\n",
        "\n",
        "    if num < 1:\n",
        "        return True\n",
        "\n",
        "    for x_fila in range(4):\n",
        "        for x_col in range(4):\n",
        "            if Reina(x_fila, x_col):\n",
        "                tablero[x_fila][x_col] = 'R'\n",
        "                if agregar_reina(n - 1):\n",
        "                    return True\n",
        "                else:\n",
        "                    tablero[x_fila][x_col] = '-'\n",
        "    return False"
      ],
      "execution_count": null,
      "outputs": []
    },
    {
      "cell_type": "code",
      "metadata": {
        "colab": {
          "base_uri": "https://localhost:8080/"
        },
        "id": "60eMUxDkv7kF",
        "outputId": "42d26cec-3de4-4d11-dd05-759f2e17d5ee"
      },
      "source": [
        "tablero = []\n",
        "for i in range(4):\n",
        "    tablero.append(['_'] * 4)\n",
        "agregar_reina(4)\n",
        "for fila in tablero:\n",
        "    print(*fila)"
      ],
      "execution_count": null,
      "outputs": [
        {
          "output_type": "stream",
          "text": [
            "_ R _ _\n",
            "_ _ _ R\n",
            "R _ _ _\n",
            "_ _ R _\n"
          ],
          "name": "stdout"
        }
      ]
    }
  ]
}